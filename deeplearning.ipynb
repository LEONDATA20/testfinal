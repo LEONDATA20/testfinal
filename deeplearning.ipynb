{
 "cells": [
  {
   "cell_type": "code",
   "execution_count": 1,
   "metadata": {},
   "outputs": [
    {
     "name": "stderr",
     "output_type": "stream",
     "text": [
      "/Users/hangli/opt/anaconda3/envs/PythonData/lib/python3.6/site-packages/sklearn/externals/joblib/__init__.py:15: FutureWarning: sklearn.externals.joblib is deprecated in 0.21 and will be removed in 0.23. Please import this functionality directly from joblib, which can be installed with: pip install joblib. If this warning is raised when loading pickled models, you may need to re-serialize those models with scikit-learn 0.21+.\n",
      "  warnings.warn(msg, category=FutureWarning)\n"
     ]
    }
   ],
   "source": [
    "import pandas as pd\n",
    "from sqlalchemy import create_engine\n",
    "import json\n",
    "import psycopg2\n",
    "from sklearn.externals import joblib# better than pickle"
   ]
  },
  {
   "cell_type": "code",
   "execution_count": 3,
   "metadata": {},
   "outputs": [],
   "source": [
    "# !pip install joblib --upgrade\n"
   ]
  },
  {
   "cell_type": "code",
   "execution_count": 4,
   "metadata": {},
   "outputs": [],
   "source": [
    "connection_string = psycopg2.connect(host=\"mypostgresdb.cnm9emj4w74o.us-east-2.rds.amazonaws.com\", port = 5432, database=\"project3\", user=\"rootlh\", password=\"password\")"
   ]
  },
  {
   "cell_type": "code",
   "execution_count": 5,
   "metadata": {},
   "outputs": [],
   "source": [
    "# pip install -U textblob\n"
   ]
  },
  {
   "cell_type": "code",
   "execution_count": 6,
   "metadata": {},
   "outputs": [],
   "source": [
    "from textblob import TextBlob\n",
    "# The sentiment property returns a namedtuple of the form Sentiment(polarity, subjectivity). \n",
    "# The polarity score is a float within the range [-1.0, 1.0]. The subjectivity is a float within the range [0.0, 1.0]\n",
    "# where 0.0 is very objective and 1.0 is very subjective.\n"
   ]
  },
  {
   "cell_type": "code",
   "execution_count": 7,
   "metadata": {},
   "outputs": [
    {
     "data": {
      "text/html": [
       "<div>\n",
       "<style scoped>\n",
       "    .dataframe tbody tr th:only-of-type {\n",
       "        vertical-align: middle;\n",
       "    }\n",
       "\n",
       "    .dataframe tbody tr th {\n",
       "        vertical-align: top;\n",
       "    }\n",
       "\n",
       "    .dataframe thead th {\n",
       "        text-align: right;\n",
       "    }\n",
       "</style>\n",
       "<table border=\"1\" class=\"dataframe\">\n",
       "  <thead>\n",
       "    <tr style=\"text-align: right;\">\n",
       "      <th></th>\n",
       "      <th>type</th>\n",
       "      <th>posts</th>\n",
       "    </tr>\n",
       "  </thead>\n",
       "  <tbody>\n",
       "    <tr>\n",
       "      <th>0</th>\n",
       "      <td>INTJ</td>\n",
       "      <td>'https://www.youtube.com/watch?v=8IEQpfA528M  ...</td>\n",
       "    </tr>\n",
       "    <tr>\n",
       "      <th>1</th>\n",
       "      <td>INFP</td>\n",
       "      <td>'It's one of my daily 'music doodles', one min...</td>\n",
       "    </tr>\n",
       "    <tr>\n",
       "      <th>2</th>\n",
       "      <td>INFP</td>\n",
       "      <td>'NO. But I have dyscalculia. :X|||I've learned...</td>\n",
       "    </tr>\n",
       "    <tr>\n",
       "      <th>3</th>\n",
       "      <td>ISTP</td>\n",
       "      <td>'288970 It's been a while, guys. Also I bleach...</td>\n",
       "    </tr>\n",
       "    <tr>\n",
       "      <th>4</th>\n",
       "      <td>INFP</td>\n",
       "      <td>'29 and still have it. Never had a girlfriend....</td>\n",
       "    </tr>\n",
       "  </tbody>\n",
       "</table>\n",
       "</div>"
      ],
      "text/plain": [
       "   type                                              posts\n",
       "0  INTJ  'https://www.youtube.com/watch?v=8IEQpfA528M  ...\n",
       "1  INFP  'It's one of my daily 'music doodles', one min...\n",
       "2  INFP  'NO. But I have dyscalculia. :X|||I've learned...\n",
       "3  ISTP  '288970 It's been a while, guys. Also I bleach...\n",
       "4  INFP  '29 and still have it. Never had a girlfriend...."
      ]
     },
     "execution_count": 7,
     "metadata": {},
     "output_type": "execute_result"
    }
   ],
   "source": [
    "df = pd.read_sql_query('select * from post_info', con=connection_string)\n",
    "df.head()"
   ]
  },
  {
   "cell_type": "code",
   "execution_count": 8,
   "metadata": {},
   "outputs": [
    {
     "name": "stdout",
     "output_type": "stream",
     "text": [
      "   type                                              posts  words_per_comment\n",
      "0  INTJ  'https://www.youtube.com/watch?v=8IEQpfA528M  ...              22.86\n",
      "1  INFP  'It's one of my daily 'music doodles', one min...              17.46\n",
      "2  INFP  'NO. But I have dyscalculia. :X|||I've learned...              13.30\n",
      "3  ISTP  '288970 It's been a while, guys. Also I bleach...              10.90\n",
      "4  INFP  '29 and still have it. Never had a girlfriend....              27.98\n"
     ]
    }
   ],
   "source": [
    "df['words_per_comment'] = df['posts'].apply(lambda x: len(x.split())/50)\n",
    "print(df.head())"
   ]
  },
  {
   "cell_type": "code",
   "execution_count": 9,
   "metadata": {
    "scrolled": true
   },
   "outputs": [
    {
     "name": "stdout",
     "output_type": "stream",
     "text": [
      "   type                                              posts  words_per_comment  \\\n",
      "0  INTJ  'https://www.youtube.com/watch?v=8IEQpfA528M  ...              22.86   \n",
      "1  INFP  'It's one of my daily 'music doodles', one min...              17.46   \n",
      "2  INFP  'NO. But I have dyscalculia. :X|||I've learned...              13.30   \n",
      "3  ISTP  '288970 It's been a while, guys. Also I bleach...              10.90   \n",
      "4  INFP  '29 and still have it. Never had a girlfriend....              27.98   \n",
      "5  INFJ  'It gets to be pretty obvious the lifestyle di...              20.98   \n",
      "6  INTP  'I used to find this difficult until I realize...              23.80   \n",
      "7  INTJ  '1. ENTJs - Without fail my favorite people.  ...              33.88   \n",
      "8  ENFP  'Can I just say I'm so glad and thankful that ...              26.28   \n",
      "9  ESFP  'No I'm not, you go home!|||Farnsworth: ENTP F...              21.80   \n",
      "\n",
      "   question_per_comment  excl_per_comment  upper_case  polarity  subjectivity  \\\n",
      "0                  0.68              0.00        3.64  0.101422      0.546946   \n",
      "1                  0.30              0.12        4.68  0.067913      0.542686   \n",
      "2                  0.12              0.06        3.68  0.128141      0.579492   \n",
      "3                  0.16              0.26        2.50  0.052717      0.557769   \n",
      "4                  0.16              0.06        4.42  0.046999      0.505684   \n",
      "5                  0.18              0.02        5.44  0.161881      0.531768   \n",
      "6                  0.80              0.40        5.64  0.120509      0.571574   \n",
      "7                  0.04              0.00        7.10  0.110448      0.474402   \n",
      "8                  0.76              0.20        5.98  0.098544      0.615180   \n",
      "9                  0.18              0.02        7.54  0.101305      0.520738   \n",
      "\n",
      "   ellipsis_per_comment  \n",
      "0                  0.60  \n",
      "1                  0.34  \n",
      "2                  0.32  \n",
      "3                  0.10  \n",
      "4                  0.80  \n",
      "5                  0.38  \n",
      "6                  0.98  \n",
      "7                  0.92  \n",
      "8                  0.64  \n",
      "9                  0.42  \n"
     ]
    }
   ],
   "source": [
    "df['words_per_comment'] = df['posts'].apply(lambda x: len(x.split())/50)\n",
    "df['question_per_comment'] = df['posts'].apply(lambda x: x.count('?')/50)\n",
    "df['excl_per_comment'] = df['posts'].apply(lambda x: x.count('!')/50)\n",
    "df['upper_case'] = df['posts'].str.findall(r'[A-Z]').str.len()/50\n",
    "# df['adj'] = df['posts'].str.findall(r'[A-Z]').str.len()/50\n",
    "df[['polarity', 'subjectivity']] = df['posts'].apply(lambda Text: pd.Series(TextBlob(Text).sentiment))\n",
    "# df['emojis'] = df['posts'].str.findall(u'[\\U0001f300-\\U0001f650]|[\\u2000-\\u3000]').str.len()\n",
    "df['ellipsis_per_comment'] = df['posts'].apply(lambda x: x.count('...')/50)\n",
    "\n",
    "\n",
    "print(df.head(10))"
   ]
  },
  {
   "cell_type": "code",
   "execution_count": 10,
   "metadata": {},
   "outputs": [],
   "source": [
    "# df[['x']] = df['posts'].apply(lambda Text: pd.Series(TextBlob(Text).np_counts))\n",
    "# df"
   ]
  },
  {
   "cell_type": "code",
   "execution_count": 11,
   "metadata": {},
   "outputs": [
    {
     "data": {
      "text/plain": [
       "type                     object\n",
       "posts                    object\n",
       "words_per_comment       float64\n",
       "question_per_comment    float64\n",
       "excl_per_comment        float64\n",
       "upper_case              float64\n",
       "polarity                float64\n",
       "subjectivity            float64\n",
       "ellipsis_per_comment    float64\n",
       "dtype: object"
      ]
     },
     "execution_count": 11,
     "metadata": {},
     "output_type": "execute_result"
    }
   ],
   "source": [
    "df.dtypes"
   ]
  },
  {
   "cell_type": "code",
   "execution_count": 12,
   "metadata": {},
   "outputs": [
    {
     "data": {
      "text/html": [
       "<div>\n",
       "<style scoped>\n",
       "    .dataframe tbody tr th:only-of-type {\n",
       "        vertical-align: middle;\n",
       "    }\n",
       "\n",
       "    .dataframe tbody tr th {\n",
       "        vertical-align: top;\n",
       "    }\n",
       "\n",
       "    .dataframe thead th {\n",
       "        text-align: right;\n",
       "    }\n",
       "</style>\n",
       "<table border=\"1\" class=\"dataframe\">\n",
       "  <thead>\n",
       "    <tr style=\"text-align: right;\">\n",
       "      <th></th>\n",
       "      <th>type</th>\n",
       "      <th>posts</th>\n",
       "      <th>words_per_comment</th>\n",
       "      <th>question_per_comment</th>\n",
       "      <th>excl_per_comment</th>\n",
       "      <th>upper_case</th>\n",
       "      <th>polarity</th>\n",
       "      <th>subjectivity</th>\n",
       "      <th>ellipsis_per_comment</th>\n",
       "    </tr>\n",
       "  </thead>\n",
       "  <tbody>\n",
       "    <tr>\n",
       "      <th>0</th>\n",
       "      <td>INTJ</td>\n",
       "      <td>'https://www.youtube.com/watch?v=8IEQpfA528M  ...</td>\n",
       "      <td>22.86</td>\n",
       "      <td>0.68</td>\n",
       "      <td>0.00</td>\n",
       "      <td>3.64</td>\n",
       "      <td>0.101422</td>\n",
       "      <td>0.546946</td>\n",
       "      <td>0.60</td>\n",
       "    </tr>\n",
       "    <tr>\n",
       "      <th>1</th>\n",
       "      <td>INFP</td>\n",
       "      <td>'It's one of my daily 'music doodles', one min...</td>\n",
       "      <td>17.46</td>\n",
       "      <td>0.30</td>\n",
       "      <td>0.12</td>\n",
       "      <td>4.68</td>\n",
       "      <td>0.067913</td>\n",
       "      <td>0.542686</td>\n",
       "      <td>0.34</td>\n",
       "    </tr>\n",
       "    <tr>\n",
       "      <th>2</th>\n",
       "      <td>INFP</td>\n",
       "      <td>'NO. But I have dyscalculia. :X|||I've learned...</td>\n",
       "      <td>13.30</td>\n",
       "      <td>0.12</td>\n",
       "      <td>0.06</td>\n",
       "      <td>3.68</td>\n",
       "      <td>0.128141</td>\n",
       "      <td>0.579492</td>\n",
       "      <td>0.32</td>\n",
       "    </tr>\n",
       "    <tr>\n",
       "      <th>3</th>\n",
       "      <td>ISTP</td>\n",
       "      <td>'288970 It's been a while, guys. Also I bleach...</td>\n",
       "      <td>10.90</td>\n",
       "      <td>0.16</td>\n",
       "      <td>0.26</td>\n",
       "      <td>2.50</td>\n",
       "      <td>0.052717</td>\n",
       "      <td>0.557769</td>\n",
       "      <td>0.10</td>\n",
       "    </tr>\n",
       "    <tr>\n",
       "      <th>4</th>\n",
       "      <td>INFP</td>\n",
       "      <td>'29 and still have it. Never had a girlfriend....</td>\n",
       "      <td>27.98</td>\n",
       "      <td>0.16</td>\n",
       "      <td>0.06</td>\n",
       "      <td>4.42</td>\n",
       "      <td>0.046999</td>\n",
       "      <td>0.505684</td>\n",
       "      <td>0.80</td>\n",
       "    </tr>\n",
       "    <tr>\n",
       "      <th>...</th>\n",
       "      <td>...</td>\n",
       "      <td>...</td>\n",
       "      <td>...</td>\n",
       "      <td>...</td>\n",
       "      <td>...</td>\n",
       "      <td>...</td>\n",
       "      <td>...</td>\n",
       "      <td>...</td>\n",
       "      <td>...</td>\n",
       "    </tr>\n",
       "    <tr>\n",
       "      <th>8670</th>\n",
       "      <td>INTJ</td>\n",
       "      <td>'What about when you hurt someone else?  Do yo...</td>\n",
       "      <td>16.34</td>\n",
       "      <td>0.20</td>\n",
       "      <td>0.02</td>\n",
       "      <td>4.42</td>\n",
       "      <td>0.181248</td>\n",
       "      <td>0.573210</td>\n",
       "      <td>0.50</td>\n",
       "    </tr>\n",
       "    <tr>\n",
       "      <th>8671</th>\n",
       "      <td>INFJ</td>\n",
       "      <td>'Any INFJ having a relationship with a ENFP? B...</td>\n",
       "      <td>29.80</td>\n",
       "      <td>0.34</td>\n",
       "      <td>0.28</td>\n",
       "      <td>6.32</td>\n",
       "      <td>0.189571</td>\n",
       "      <td>0.557296</td>\n",
       "      <td>0.90</td>\n",
       "    </tr>\n",
       "    <tr>\n",
       "      <th>8672</th>\n",
       "      <td>INFJ</td>\n",
       "      <td>'That's very interesting how you're in a relat...</td>\n",
       "      <td>29.10</td>\n",
       "      <td>0.02</td>\n",
       "      <td>0.02</td>\n",
       "      <td>4.52</td>\n",
       "      <td>0.189957</td>\n",
       "      <td>0.518341</td>\n",
       "      <td>0.74</td>\n",
       "    </tr>\n",
       "    <tr>\n",
       "      <th>8673</th>\n",
       "      <td>ESTP</td>\n",
       "      <td>'I don't feel bad at all about that and I don'...</td>\n",
       "      <td>23.74</td>\n",
       "      <td>0.46</td>\n",
       "      <td>0.30</td>\n",
       "      <td>5.18</td>\n",
       "      <td>0.151486</td>\n",
       "      <td>0.527806</td>\n",
       "      <td>0.72</td>\n",
       "    </tr>\n",
       "    <tr>\n",
       "      <th>8674</th>\n",
       "      <td>INTJ</td>\n",
       "      <td>'Plot twist: every single one of these tests w...</td>\n",
       "      <td>27.62</td>\n",
       "      <td>0.28</td>\n",
       "      <td>0.06</td>\n",
       "      <td>4.58</td>\n",
       "      <td>0.063966</td>\n",
       "      <td>0.472431</td>\n",
       "      <td>0.70</td>\n",
       "    </tr>\n",
       "  </tbody>\n",
       "</table>\n",
       "<p>8675 rows × 9 columns</p>\n",
       "</div>"
      ],
      "text/plain": [
       "      type                                              posts  \\\n",
       "0     INTJ  'https://www.youtube.com/watch?v=8IEQpfA528M  ...   \n",
       "1     INFP  'It's one of my daily 'music doodles', one min...   \n",
       "2     INFP  'NO. But I have dyscalculia. :X|||I've learned...   \n",
       "3     ISTP  '288970 It's been a while, guys. Also I bleach...   \n",
       "4     INFP  '29 and still have it. Never had a girlfriend....   \n",
       "...    ...                                                ...   \n",
       "8670  INTJ  'What about when you hurt someone else?  Do yo...   \n",
       "8671  INFJ  'Any INFJ having a relationship with a ENFP? B...   \n",
       "8672  INFJ  'That's very interesting how you're in a relat...   \n",
       "8673  ESTP  'I don't feel bad at all about that and I don'...   \n",
       "8674  INTJ  'Plot twist: every single one of these tests w...   \n",
       "\n",
       "      words_per_comment  question_per_comment  excl_per_comment  upper_case  \\\n",
       "0                 22.86                  0.68              0.00        3.64   \n",
       "1                 17.46                  0.30              0.12        4.68   \n",
       "2                 13.30                  0.12              0.06        3.68   \n",
       "3                 10.90                  0.16              0.26        2.50   \n",
       "4                 27.98                  0.16              0.06        4.42   \n",
       "...                 ...                   ...               ...         ...   \n",
       "8670              16.34                  0.20              0.02        4.42   \n",
       "8671              29.80                  0.34              0.28        6.32   \n",
       "8672              29.10                  0.02              0.02        4.52   \n",
       "8673              23.74                  0.46              0.30        5.18   \n",
       "8674              27.62                  0.28              0.06        4.58   \n",
       "\n",
       "      polarity  subjectivity  ellipsis_per_comment  \n",
       "0     0.101422      0.546946                  0.60  \n",
       "1     0.067913      0.542686                  0.34  \n",
       "2     0.128141      0.579492                  0.32  \n",
       "3     0.052717      0.557769                  0.10  \n",
       "4     0.046999      0.505684                  0.80  \n",
       "...        ...           ...                   ...  \n",
       "8670  0.181248      0.573210                  0.50  \n",
       "8671  0.189571      0.557296                  0.90  \n",
       "8672  0.189957      0.518341                  0.74  \n",
       "8673  0.151486      0.527806                  0.72  \n",
       "8674  0.063966      0.472431                  0.70  \n",
       "\n",
       "[8675 rows x 9 columns]"
      ]
     },
     "execution_count": 12,
     "metadata": {},
     "output_type": "execute_result"
    }
   ],
   "source": [
    "df"
   ]
  },
  {
   "cell_type": "code",
   "execution_count": 13,
   "metadata": {},
   "outputs": [
    {
     "name": "stdout",
     "output_type": "stream",
     "text": [
      "   type                                              posts  words_per_comment  \\\n",
      "0  INTJ  'https://www.youtube.com/watch?v=8IEQpfA528M  ...              22.86   \n",
      "1  INFP  'It's one of my daily 'music doodles', one min...              17.46   \n",
      "2  INFP  'NO. But I have dyscalculia. :X|||I've learned...              13.30   \n",
      "3  ISTP  '288970 It's been a while, guys. Also I bleach...              10.90   \n",
      "4  INFP  '29 and still have it. Never had a girlfriend....              27.98   \n",
      "5  INFJ  'It gets to be pretty obvious the lifestyle di...              20.98   \n",
      "6  INTP  'I used to find this difficult until I realize...              23.80   \n",
      "7  INTJ  '1. ENTJs - Without fail my favorite people.  ...              33.88   \n",
      "8  ENFP  'Can I just say I'm so glad and thankful that ...              26.28   \n",
      "9  ESFP  'No I'm not, you go home!|||Farnsworth: ENTP F...              21.80   \n",
      "\n",
      "   question_per_comment  excl_per_comment  upper_case  polarity  subjectivity  \\\n",
      "0                  0.68              0.00        3.64  0.101422      0.546946   \n",
      "1                  0.30              0.12        4.68  0.067913      0.542686   \n",
      "2                  0.12              0.06        3.68  0.128141      0.579492   \n",
      "3                  0.16              0.26        2.50  0.052717      0.557769   \n",
      "4                  0.16              0.06        4.42  0.046999      0.505684   \n",
      "5                  0.18              0.02        5.44  0.161881      0.531768   \n",
      "6                  0.80              0.40        5.64  0.120509      0.571574   \n",
      "7                  0.04              0.00        7.10  0.110448      0.474402   \n",
      "8                  0.76              0.20        5.98  0.098544      0.615180   \n",
      "9                  0.18              0.02        7.54  0.101305      0.520738   \n",
      "\n",
      "   ellipsis_per_comment  I-E  N-S  T-F  J-P  \n",
      "0                  0.60    0    0    0    0  \n",
      "1                  0.34    0    0    1    1  \n",
      "2                  0.32    0    0    1    1  \n",
      "3                  0.10    0    1    0    1  \n",
      "4                  0.80    0    0    1    1  \n",
      "5                  0.38    0    0    1    0  \n",
      "6                  0.98    0    0    0    1  \n",
      "7                  0.92    0    0    0    0  \n",
      "8                  0.64    1    0    1    1  \n",
      "9                  0.42    1    1    1    1  \n"
     ]
    }
   ],
   "source": [
    "map1 = {\"I\": 0, \"E\": 1}\n",
    "map2 = {\"N\": 0, \"S\": 1}\n",
    "map3 = {\"T\": 0, \"F\": 1}\n",
    "map4 = {\"J\": 0, \"P\": 1}\n",
    "df['I-E'] = df['type'].astype(str).str[0]\n",
    "df['I-E'] = df['I-E'].map(map1)\n",
    "df['N-S'] = df['type'].astype(str).str[1]\n",
    "df['N-S'] = df['N-S'].map(map2)\n",
    "df['T-F'] = df['type'].astype(str).str[2]\n",
    "df['T-F'] = df['T-F'].map(map3)\n",
    "df['J-P'] = df['type'].astype(str).str[3]\n",
    "df['J-P'] = df['J-P'].map(map4)\n",
    "print(df.head(10))"
   ]
  },
  {
   "cell_type": "code",
   "execution_count": 14,
   "metadata": {},
   "outputs": [
    {
     "name": "stdout",
     "output_type": "stream",
     "text": [
      "(8675, 7)\n"
     ]
    }
   ],
   "source": [
    "X = df.drop(['type','posts','I-E','N-S','T-F','J-P'], axis=1)\n",
    "print(X.shape)"
   ]
  },
  {
   "cell_type": "code",
   "execution_count": 15,
   "metadata": {},
   "outputs": [
    {
     "data": {
      "text/plain": [
       "(8675, 7)"
      ]
     },
     "execution_count": 15,
     "metadata": {},
     "output_type": "execute_result"
    }
   ],
   "source": [
    "X.shape"
   ]
  },
  {
   "cell_type": "code",
   "execution_count": 16,
   "metadata": {},
   "outputs": [
    {
     "data": {
      "text/plain": [
       "array(['INTJ', 'INFP', 'ISTP', 'INFJ', 'INTP', 'ENFP', 'ESFP', 'ENTP',\n",
       "       'ENFJ', 'ESTP', 'ISFP', 'ENTJ', 'ISTJ', 'ESTJ', 'ISFJ', 'ESFJ'],\n",
       "      dtype=object)"
      ]
     },
     "execution_count": 16,
     "metadata": {},
     "output_type": "execute_result"
    }
   ],
   "source": [
    "df['type'].unique()"
   ]
  },
  {
   "cell_type": "code",
   "execution_count": 17,
   "metadata": {},
   "outputs": [],
   "source": [
    "# !pip install tensorflow"
   ]
  },
  {
   "cell_type": "code",
   "execution_count": 18,
   "metadata": {},
   "outputs": [],
   "source": [
    "from sklearn.model_selection import train_test_split\n",
    "from sklearn.preprocessing import LabelEncoder, MinMaxScaler\n",
    "from tensorflow.keras.utils import to_categorical"
   ]
  },
  {
   "cell_type": "code",
   "execution_count": 19,
   "metadata": {},
   "outputs": [],
   "source": [
    "# Introvert vs. Extrovert\n",
    "y = df['I-E']\n",
    "X_train,X_test,y_train,y_test = train_test_split(X,y,random_state=45)\n"
   ]
  },
  {
   "cell_type": "code",
   "execution_count": 20,
   "metadata": {},
   "outputs": [],
   "source": [
    "# df[\"I-E\"] = df[\"I-E\"].astype(\"category\")\n"
   ]
  },
  {
   "cell_type": "code",
   "execution_count": 21,
   "metadata": {},
   "outputs": [
    {
     "data": {
      "text/html": [
       "<div>\n",
       "<style scoped>\n",
       "    .dataframe tbody tr th:only-of-type {\n",
       "        vertical-align: middle;\n",
       "    }\n",
       "\n",
       "    .dataframe tbody tr th {\n",
       "        vertical-align: top;\n",
       "    }\n",
       "\n",
       "    .dataframe thead th {\n",
       "        text-align: right;\n",
       "    }\n",
       "</style>\n",
       "<table border=\"1\" class=\"dataframe\">\n",
       "  <thead>\n",
       "    <tr style=\"text-align: right;\">\n",
       "      <th></th>\n",
       "      <th>words_per_comment</th>\n",
       "      <th>question_per_comment</th>\n",
       "      <th>excl_per_comment</th>\n",
       "      <th>upper_case</th>\n",
       "      <th>polarity</th>\n",
       "      <th>subjectivity</th>\n",
       "      <th>ellipsis_per_comment</th>\n",
       "    </tr>\n",
       "  </thead>\n",
       "  <tbody>\n",
       "    <tr>\n",
       "      <th>5495</th>\n",
       "      <td>25.74</td>\n",
       "      <td>0.28</td>\n",
       "      <td>0.02</td>\n",
       "      <td>4.50</td>\n",
       "      <td>0.193355</td>\n",
       "      <td>0.532972</td>\n",
       "      <td>0.62</td>\n",
       "    </tr>\n",
       "    <tr>\n",
       "      <th>7205</th>\n",
       "      <td>30.82</td>\n",
       "      <td>0.18</td>\n",
       "      <td>0.36</td>\n",
       "      <td>6.76</td>\n",
       "      <td>0.206285</td>\n",
       "      <td>0.601249</td>\n",
       "      <td>1.16</td>\n",
       "    </tr>\n",
       "    <tr>\n",
       "      <th>3889</th>\n",
       "      <td>30.08</td>\n",
       "      <td>0.08</td>\n",
       "      <td>0.08</td>\n",
       "      <td>5.74</td>\n",
       "      <td>0.101339</td>\n",
       "      <td>0.516682</td>\n",
       "      <td>0.72</td>\n",
       "    </tr>\n",
       "    <tr>\n",
       "      <th>94</th>\n",
       "      <td>13.90</td>\n",
       "      <td>0.28</td>\n",
       "      <td>0.14</td>\n",
       "      <td>2.40</td>\n",
       "      <td>0.077992</td>\n",
       "      <td>0.690285</td>\n",
       "      <td>0.20</td>\n",
       "    </tr>\n",
       "    <tr>\n",
       "      <th>6675</th>\n",
       "      <td>17.58</td>\n",
       "      <td>0.12</td>\n",
       "      <td>0.02</td>\n",
       "      <td>2.88</td>\n",
       "      <td>0.117476</td>\n",
       "      <td>0.608326</td>\n",
       "      <td>0.24</td>\n",
       "    </tr>\n",
       "    <tr>\n",
       "      <th>...</th>\n",
       "      <td>...</td>\n",
       "      <td>...</td>\n",
       "      <td>...</td>\n",
       "      <td>...</td>\n",
       "      <td>...</td>\n",
       "      <td>...</td>\n",
       "      <td>...</td>\n",
       "    </tr>\n",
       "    <tr>\n",
       "      <th>3704</th>\n",
       "      <td>21.56</td>\n",
       "      <td>0.26</td>\n",
       "      <td>0.36</td>\n",
       "      <td>5.80</td>\n",
       "      <td>0.095862</td>\n",
       "      <td>0.523073</td>\n",
       "      <td>0.54</td>\n",
       "    </tr>\n",
       "    <tr>\n",
       "      <th>163</th>\n",
       "      <td>27.06</td>\n",
       "      <td>0.26</td>\n",
       "      <td>0.22</td>\n",
       "      <td>5.92</td>\n",
       "      <td>0.081877</td>\n",
       "      <td>0.531350</td>\n",
       "      <td>0.72</td>\n",
       "    </tr>\n",
       "    <tr>\n",
       "      <th>6012</th>\n",
       "      <td>31.16</td>\n",
       "      <td>0.32</td>\n",
       "      <td>0.02</td>\n",
       "      <td>6.06</td>\n",
       "      <td>0.030651</td>\n",
       "      <td>0.505661</td>\n",
       "      <td>0.74</td>\n",
       "    </tr>\n",
       "    <tr>\n",
       "      <th>6558</th>\n",
       "      <td>24.32</td>\n",
       "      <td>0.18</td>\n",
       "      <td>0.00</td>\n",
       "      <td>7.22</td>\n",
       "      <td>0.106238</td>\n",
       "      <td>0.503160</td>\n",
       "      <td>0.60</td>\n",
       "    </tr>\n",
       "    <tr>\n",
       "      <th>7115</th>\n",
       "      <td>23.48</td>\n",
       "      <td>0.32</td>\n",
       "      <td>0.16</td>\n",
       "      <td>6.72</td>\n",
       "      <td>0.139946</td>\n",
       "      <td>0.538538</td>\n",
       "      <td>0.70</td>\n",
       "    </tr>\n",
       "  </tbody>\n",
       "</table>\n",
       "<p>6506 rows × 7 columns</p>\n",
       "</div>"
      ],
      "text/plain": [
       "      words_per_comment  question_per_comment  excl_per_comment  upper_case  \\\n",
       "5495              25.74                  0.28              0.02        4.50   \n",
       "7205              30.82                  0.18              0.36        6.76   \n",
       "3889              30.08                  0.08              0.08        5.74   \n",
       "94                13.90                  0.28              0.14        2.40   \n",
       "6675              17.58                  0.12              0.02        2.88   \n",
       "...                 ...                   ...               ...         ...   \n",
       "3704              21.56                  0.26              0.36        5.80   \n",
       "163               27.06                  0.26              0.22        5.92   \n",
       "6012              31.16                  0.32              0.02        6.06   \n",
       "6558              24.32                  0.18              0.00        7.22   \n",
       "7115              23.48                  0.32              0.16        6.72   \n",
       "\n",
       "      polarity  subjectivity  ellipsis_per_comment  \n",
       "5495  0.193355      0.532972                  0.62  \n",
       "7205  0.206285      0.601249                  1.16  \n",
       "3889  0.101339      0.516682                  0.72  \n",
       "94    0.077992      0.690285                  0.20  \n",
       "6675  0.117476      0.608326                  0.24  \n",
       "...        ...           ...                   ...  \n",
       "3704  0.095862      0.523073                  0.54  \n",
       "163   0.081877      0.531350                  0.72  \n",
       "6012  0.030651      0.505661                  0.74  \n",
       "6558  0.106238      0.503160                  0.60  \n",
       "7115  0.139946      0.538538                  0.70  \n",
       "\n",
       "[6506 rows x 7 columns]"
      ]
     },
     "execution_count": 21,
     "metadata": {},
     "output_type": "execute_result"
    }
   ],
   "source": [
    "X_train"
   ]
  },
  {
   "cell_type": "code",
   "execution_count": 22,
   "metadata": {},
   "outputs": [
    {
     "data": {
      "text/plain": [
       "0       0\n",
       "1       0\n",
       "2       0\n",
       "3       0\n",
       "4       0\n",
       "       ..\n",
       "8670    0\n",
       "8671    0\n",
       "8672    0\n",
       "8673    1\n",
       "8674    0\n",
       "Name: I-E, Length: 8675, dtype: int64"
      ]
     },
     "execution_count": 22,
     "metadata": {},
     "output_type": "execute_result"
    }
   ],
   "source": [
    "y"
   ]
  },
  {
   "cell_type": "code",
   "execution_count": 23,
   "metadata": {},
   "outputs": [],
   "source": [
    "X_scaler = MinMaxScaler().fit(X_train)\n",
    "X_train_scaled = X_scaler.transform(X_train)\n",
    "X_test_scaled = X_scaler.transform(X_test)"
   ]
  },
  {
   "cell_type": "code",
   "execution_count": 24,
   "metadata": {},
   "outputs": [],
   "source": [
    "scaler_filename = \"scaler.save\""
   ]
  },
  {
   "cell_type": "code",
   "execution_count": 25,
   "metadata": {},
   "outputs": [
    {
     "data": {
      "text/plain": [
       "['scaler.save']"
      ]
     },
     "execution_count": 25,
     "metadata": {},
     "output_type": "execute_result"
    }
   ],
   "source": [
    "joblib.dump(X_scaler, scaler_filename) "
   ]
  },
  {
   "cell_type": "code",
   "execution_count": 26,
   "metadata": {},
   "outputs": [
    {
     "data": {
      "text/plain": [
       "array([[0.6908993 , 0.11570248, 0.005     , ..., 0.73143713, 0.5329717 ,\n",
       "        0.18674699],\n",
       "       [0.82767905, 0.07438017, 0.09      , ..., 0.7409577 , 0.6012491 ,\n",
       "        0.34939759],\n",
       "       [0.80775444, 0.03305785, 0.02      , ..., 0.66368255, 0.51668164,\n",
       "        0.21686747],\n",
       "       ...,\n",
       "       [0.8368336 , 0.1322314 , 0.005     , ..., 0.61163283, 0.50566111,\n",
       "        0.22289157],\n",
       "       [0.65266559, 0.07438017, 0.        , ..., 0.66728972, 0.50315976,\n",
       "        0.18072289],\n",
       "       [0.63004847, 0.1322314 , 0.04      , ..., 0.69210999, 0.53853771,\n",
       "        0.21084337]])"
      ]
     },
     "execution_count": 26,
     "metadata": {},
     "output_type": "execute_result"
    }
   ],
   "source": [
    "X_train_scaled"
   ]
  },
  {
   "cell_type": "code",
   "execution_count": 27,
   "metadata": {},
   "outputs": [],
   "source": [
    "label_encoder = LabelEncoder()\n",
    "label_encoder.fit(y_train)\n",
    "encoded_y_train = label_encoder.transform(y_train)\n",
    "encoded_y_test = label_encoder.transform(y_test)"
   ]
  },
  {
   "cell_type": "code",
   "execution_count": 28,
   "metadata": {},
   "outputs": [
    {
     "data": {
      "text/plain": [
       "array([0, 0, 0, ..., 0, 1, 0])"
      ]
     },
     "execution_count": 28,
     "metadata": {},
     "output_type": "execute_result"
    }
   ],
   "source": [
    "encoded_y_train"
   ]
  },
  {
   "cell_type": "code",
   "execution_count": 29,
   "metadata": {},
   "outputs": [],
   "source": [
    "# Step 2: Convert encoded labels to one-hot-encoding\n",
    "y_train_categorical = to_categorical(encoded_y_train)\n",
    "y_test_categorical = to_categorical(encoded_y_test)"
   ]
  },
  {
   "cell_type": "code",
   "execution_count": 30,
   "metadata": {},
   "outputs": [
    {
     "data": {
      "text/plain": [
       "array([[1., 0.],\n",
       "       [1., 0.],\n",
       "       [1., 0.],\n",
       "       ...,\n",
       "       [1., 0.],\n",
       "       [0., 1.],\n",
       "       [1., 0.]], dtype=float32)"
      ]
     },
     "execution_count": 30,
     "metadata": {},
     "output_type": "execute_result"
    }
   ],
   "source": [
    "y_train_categorical"
   ]
  },
  {
   "cell_type": "code",
   "execution_count": 31,
   "metadata": {},
   "outputs": [],
   "source": [
    "from tensorflow.keras.models import Sequential\n",
    "from tensorflow.keras.layers import Dense"
   ]
  },
  {
   "cell_type": "code",
   "execution_count": 32,
   "metadata": {},
   "outputs": [],
   "source": [
    "model = Sequential()\n",
    "model.add(Dense(units=200, activation='sigmoid', input_dim=7))\n",
    "model.add(Dense(units=200, activation='sigmoid'))\n",
    "model.add(Dense(units=2, activation='softmax'))"
   ]
  },
  {
   "cell_type": "code",
   "execution_count": 33,
   "metadata": {},
   "outputs": [],
   "source": [
    "model.compile(optimizer='adam',\n",
    "              loss='categorical_crossentropy',\n",
    "              metrics=['accuracy'])"
   ]
  },
  {
   "cell_type": "code",
   "execution_count": 34,
   "metadata": {
    "scrolled": true
   },
   "outputs": [
    {
     "name": "stdout",
     "output_type": "stream",
     "text": [
      "Model: \"sequential\"\n",
      "_________________________________________________________________\n",
      "Layer (type)                 Output Shape              Param #   \n",
      "=================================================================\n",
      "dense (Dense)                (None, 200)               1600      \n",
      "_________________________________________________________________\n",
      "dense_1 (Dense)              (None, 200)               40200     \n",
      "_________________________________________________________________\n",
      "dense_2 (Dense)              (None, 2)                 402       \n",
      "=================================================================\n",
      "Total params: 42,202\n",
      "Trainable params: 42,202\n",
      "Non-trainable params: 0\n",
      "_________________________________________________________________\n"
     ]
    }
   ],
   "source": [
    "model.summary() "
   ]
  },
  {
   "cell_type": "code",
   "execution_count": 35,
   "metadata": {},
   "outputs": [
    {
     "name": "stdout",
     "output_type": "stream",
     "text": [
      "Epoch 1/60\n",
      "204/204 - 1s - loss: 0.5524 - accuracy: 0.7650\n",
      "Epoch 2/60\n",
      "204/204 - 1s - loss: 0.5502 - accuracy: 0.7687\n",
      "Epoch 3/60\n",
      "204/204 - 0s - loss: 0.5517 - accuracy: 0.7687\n",
      "Epoch 4/60\n",
      "204/204 - 0s - loss: 0.5452 - accuracy: 0.7687\n",
      "Epoch 5/60\n",
      "204/204 - 0s - loss: 0.5489 - accuracy: 0.7687\n",
      "Epoch 6/60\n",
      "204/204 - 0s - loss: 0.5436 - accuracy: 0.7687\n",
      "Epoch 7/60\n",
      "204/204 - 0s - loss: 0.5397 - accuracy: 0.7688\n",
      "Epoch 8/60\n",
      "204/204 - 0s - loss: 0.5370 - accuracy: 0.7688\n",
      "Epoch 9/60\n",
      "204/204 - 0s - loss: 0.5365 - accuracy: 0.7688\n",
      "Epoch 10/60\n",
      "204/204 - 0s - loss: 0.5348 - accuracy: 0.7690\n",
      "Epoch 11/60\n",
      "204/204 - 0s - loss: 0.5350 - accuracy: 0.7708\n",
      "Epoch 12/60\n",
      "204/204 - 0s - loss: 0.5336 - accuracy: 0.7698\n",
      "Epoch 13/60\n",
      "204/204 - 0s - loss: 0.5327 - accuracy: 0.7701\n",
      "Epoch 14/60\n",
      "204/204 - 0s - loss: 0.5342 - accuracy: 0.7698\n",
      "Epoch 15/60\n",
      "204/204 - 0s - loss: 0.5341 - accuracy: 0.7701\n",
      "Epoch 16/60\n",
      "204/204 - 0s - loss: 0.5318 - accuracy: 0.7705\n",
      "Epoch 17/60\n",
      "204/204 - 0s - loss: 0.5330 - accuracy: 0.7701\n",
      "Epoch 18/60\n",
      "204/204 - 0s - loss: 0.5300 - accuracy: 0.7696\n",
      "Epoch 19/60\n",
      "204/204 - 0s - loss: 0.5340 - accuracy: 0.7707\n",
      "Epoch 20/60\n",
      "204/204 - 0s - loss: 0.5339 - accuracy: 0.7699\n",
      "Epoch 21/60\n",
      "204/204 - 0s - loss: 0.5324 - accuracy: 0.7701\n",
      "Epoch 22/60\n",
      "204/204 - 0s - loss: 0.5298 - accuracy: 0.7696\n",
      "Epoch 23/60\n",
      "204/204 - 0s - loss: 0.5314 - accuracy: 0.7687\n",
      "Epoch 24/60\n",
      "204/204 - 0s - loss: 0.5313 - accuracy: 0.7701\n",
      "Epoch 25/60\n",
      "204/204 - 0s - loss: 0.5303 - accuracy: 0.7698\n",
      "Epoch 26/60\n",
      "204/204 - 0s - loss: 0.5323 - accuracy: 0.7707\n",
      "Epoch 27/60\n",
      "204/204 - 0s - loss: 0.5307 - accuracy: 0.7698\n",
      "Epoch 28/60\n",
      "204/204 - 0s - loss: 0.5302 - accuracy: 0.7701\n",
      "Epoch 29/60\n",
      "204/204 - 0s - loss: 0.5296 - accuracy: 0.7691\n",
      "Epoch 30/60\n",
      "204/204 - 0s - loss: 0.5321 - accuracy: 0.7694\n",
      "Epoch 31/60\n",
      "204/204 - 0s - loss: 0.5296 - accuracy: 0.7698\n",
      "Epoch 32/60\n",
      "204/204 - 0s - loss: 0.5289 - accuracy: 0.7702\n",
      "Epoch 33/60\n",
      "204/204 - 0s - loss: 0.5306 - accuracy: 0.7688\n",
      "Epoch 34/60\n",
      "204/204 - 0s - loss: 0.5291 - accuracy: 0.7707\n",
      "Epoch 35/60\n",
      "204/204 - 0s - loss: 0.5295 - accuracy: 0.7710\n",
      "Epoch 36/60\n",
      "204/204 - 0s - loss: 0.5311 - accuracy: 0.7696\n",
      "Epoch 37/60\n",
      "204/204 - 0s - loss: 0.5302 - accuracy: 0.7698\n",
      "Epoch 38/60\n",
      "204/204 - 0s - loss: 0.5299 - accuracy: 0.7702\n",
      "Epoch 39/60\n",
      "204/204 - 0s - loss: 0.5293 - accuracy: 0.7705\n",
      "Epoch 40/60\n",
      "204/204 - 0s - loss: 0.5294 - accuracy: 0.7696\n",
      "Epoch 41/60\n",
      "204/204 - 0s - loss: 0.5296 - accuracy: 0.7694\n",
      "Epoch 42/60\n",
      "204/204 - 0s - loss: 0.5291 - accuracy: 0.7696\n",
      "Epoch 43/60\n",
      "204/204 - 0s - loss: 0.5296 - accuracy: 0.7704\n",
      "Epoch 44/60\n",
      "204/204 - 0s - loss: 0.5289 - accuracy: 0.7694\n",
      "Epoch 45/60\n",
      "204/204 - 0s - loss: 0.5289 - accuracy: 0.7688\n",
      "Epoch 46/60\n",
      "204/204 - 0s - loss: 0.5299 - accuracy: 0.7694\n",
      "Epoch 47/60\n",
      "204/204 - 0s - loss: 0.5283 - accuracy: 0.7699\n",
      "Epoch 48/60\n",
      "204/204 - 0s - loss: 0.5305 - accuracy: 0.7693\n",
      "Epoch 49/60\n",
      "204/204 - 0s - loss: 0.5291 - accuracy: 0.7696\n",
      "Epoch 50/60\n",
      "204/204 - 0s - loss: 0.5283 - accuracy: 0.7701\n",
      "Epoch 51/60\n",
      "204/204 - 0s - loss: 0.5289 - accuracy: 0.7705\n",
      "Epoch 52/60\n",
      "204/204 - 0s - loss: 0.5293 - accuracy: 0.7699\n",
      "Epoch 53/60\n",
      "204/204 - 0s - loss: 0.5300 - accuracy: 0.7702\n",
      "Epoch 54/60\n",
      "204/204 - 0s - loss: 0.5291 - accuracy: 0.7694\n",
      "Epoch 55/60\n",
      "204/204 - 0s - loss: 0.5278 - accuracy: 0.7687\n",
      "Epoch 56/60\n",
      "204/204 - 0s - loss: 0.5271 - accuracy: 0.7701\n",
      "Epoch 57/60\n",
      "204/204 - 0s - loss: 0.5282 - accuracy: 0.7687\n",
      "Epoch 58/60\n",
      "204/204 - 0s - loss: 0.5292 - accuracy: 0.7694\n",
      "Epoch 59/60\n",
      "204/204 - 1s - loss: 0.5283 - accuracy: 0.7696\n",
      "Epoch 60/60\n",
      "204/204 - 1s - loss: 0.5282 - accuracy: 0.7684\n"
     ]
    },
    {
     "data": {
      "text/plain": [
       "<tensorflow.python.keras.callbacks.History at 0x1a3ce96c88>"
      ]
     },
     "execution_count": 35,
     "metadata": {},
     "output_type": "execute_result"
    }
   ],
   "source": [
    "model.fit(\n",
    "    X_train_scaled,\n",
    "    y_train_categorical,\n",
    "    epochs=60,\n",
    "    shuffle=True,\n",
    "    verbose=2\n",
    ")"
   ]
  },
  {
   "cell_type": "code",
   "execution_count": 36,
   "metadata": {},
   "outputs": [
    {
     "name": "stdout",
     "output_type": "stream",
     "text": [
      "68/68 - 0s - loss: 0.5316 - accuracy: 0.7704\n",
      "Normal Neural Network - Loss: 0.5316122174263, Accuracy: 0.770401120185852\n"
     ]
    }
   ],
   "source": [
    "model_loss, model_accuracy = model.evaluate(\n",
    "    X_test_scaled, y_test_categorical, verbose=2)\n",
    "print(\n",
    "    f\"Normal Neural Network - Loss: {model_loss}, Accuracy: {model_accuracy}\")"
   ]
  },
  {
   "cell_type": "code",
   "execution_count": 37,
   "metadata": {},
   "outputs": [],
   "source": [
    "model.save(\"model_test.h5\") \n",
    "from tensorflow.keras.models import load_model\n",
    "modelIE = load_model(\"model_test.h5\")"
   ]
  },
  {
   "cell_type": "code",
   "execution_count": 38,
   "metadata": {},
   "outputs": [
    {
     "data": {
      "text/html": [
       "<div>\n",
       "<style scoped>\n",
       "    .dataframe tbody tr th:only-of-type {\n",
       "        vertical-align: middle;\n",
       "    }\n",
       "\n",
       "    .dataframe tbody tr th {\n",
       "        vertical-align: top;\n",
       "    }\n",
       "\n",
       "    .dataframe thead th {\n",
       "        text-align: right;\n",
       "    }\n",
       "</style>\n",
       "<table border=\"1\" class=\"dataframe\">\n",
       "  <thead>\n",
       "    <tr style=\"text-align: right;\">\n",
       "      <th></th>\n",
       "      <th>words_per_comment</th>\n",
       "      <th>question_per_comment</th>\n",
       "      <th>excl_per_comment</th>\n",
       "      <th>upper_case</th>\n",
       "      <th>polarity</th>\n",
       "      <th>subjectivity</th>\n",
       "      <th>ellipsis_per_comment</th>\n",
       "    </tr>\n",
       "  </thead>\n",
       "  <tbody>\n",
       "    <tr>\n",
       "      <th>7915</th>\n",
       "      <td>20.86</td>\n",
       "      <td>0.22</td>\n",
       "      <td>0.14</td>\n",
       "      <td>3.68</td>\n",
       "      <td>0.043637</td>\n",
       "      <td>0.594063</td>\n",
       "      <td>0.42</td>\n",
       "    </tr>\n",
       "    <tr>\n",
       "      <th>3839</th>\n",
       "      <td>28.34</td>\n",
       "      <td>0.18</td>\n",
       "      <td>0.12</td>\n",
       "      <td>6.48</td>\n",
       "      <td>0.150611</td>\n",
       "      <td>0.494092</td>\n",
       "      <td>1.04</td>\n",
       "    </tr>\n",
       "    <tr>\n",
       "      <th>8168</th>\n",
       "      <td>31.20</td>\n",
       "      <td>0.18</td>\n",
       "      <td>0.36</td>\n",
       "      <td>5.60</td>\n",
       "      <td>0.162235</td>\n",
       "      <td>0.565029</td>\n",
       "      <td>1.00</td>\n",
       "    </tr>\n",
       "    <tr>\n",
       "      <th>3442</th>\n",
       "      <td>30.18</td>\n",
       "      <td>0.14</td>\n",
       "      <td>0.02</td>\n",
       "      <td>5.56</td>\n",
       "      <td>0.085250</td>\n",
       "      <td>0.472184</td>\n",
       "      <td>0.68</td>\n",
       "    </tr>\n",
       "    <tr>\n",
       "      <th>2870</th>\n",
       "      <td>10.82</td>\n",
       "      <td>0.12</td>\n",
       "      <td>0.02</td>\n",
       "      <td>2.08</td>\n",
       "      <td>0.167263</td>\n",
       "      <td>0.531493</td>\n",
       "      <td>0.18</td>\n",
       "    </tr>\n",
       "    <tr>\n",
       "      <th>...</th>\n",
       "      <td>...</td>\n",
       "      <td>...</td>\n",
       "      <td>...</td>\n",
       "      <td>...</td>\n",
       "      <td>...</td>\n",
       "      <td>...</td>\n",
       "      <td>...</td>\n",
       "    </tr>\n",
       "    <tr>\n",
       "      <th>5892</th>\n",
       "      <td>23.22</td>\n",
       "      <td>0.18</td>\n",
       "      <td>0.26</td>\n",
       "      <td>7.20</td>\n",
       "      <td>0.056211</td>\n",
       "      <td>0.608271</td>\n",
       "      <td>0.46</td>\n",
       "    </tr>\n",
       "    <tr>\n",
       "      <th>8035</th>\n",
       "      <td>9.36</td>\n",
       "      <td>0.20</td>\n",
       "      <td>0.02</td>\n",
       "      <td>2.36</td>\n",
       "      <td>0.073557</td>\n",
       "      <td>0.538962</td>\n",
       "      <td>0.14</td>\n",
       "    </tr>\n",
       "    <tr>\n",
       "      <th>2145</th>\n",
       "      <td>16.20</td>\n",
       "      <td>0.14</td>\n",
       "      <td>0.02</td>\n",
       "      <td>7.58</td>\n",
       "      <td>0.160300</td>\n",
       "      <td>0.548074</td>\n",
       "      <td>0.20</td>\n",
       "    </tr>\n",
       "    <tr>\n",
       "      <th>4735</th>\n",
       "      <td>17.36</td>\n",
       "      <td>0.34</td>\n",
       "      <td>0.08</td>\n",
       "      <td>2.56</td>\n",
       "      <td>0.161578</td>\n",
       "      <td>0.507725</td>\n",
       "      <td>0.34</td>\n",
       "    </tr>\n",
       "    <tr>\n",
       "      <th>3716</th>\n",
       "      <td>23.54</td>\n",
       "      <td>0.18</td>\n",
       "      <td>0.00</td>\n",
       "      <td>5.56</td>\n",
       "      <td>0.092970</td>\n",
       "      <td>0.600723</td>\n",
       "      <td>0.56</td>\n",
       "    </tr>\n",
       "  </tbody>\n",
       "</table>\n",
       "<p>2169 rows × 7 columns</p>\n",
       "</div>"
      ],
      "text/plain": [
       "      words_per_comment  question_per_comment  excl_per_comment  upper_case  \\\n",
       "7915              20.86                  0.22              0.14        3.68   \n",
       "3839              28.34                  0.18              0.12        6.48   \n",
       "8168              31.20                  0.18              0.36        5.60   \n",
       "3442              30.18                  0.14              0.02        5.56   \n",
       "2870              10.82                  0.12              0.02        2.08   \n",
       "...                 ...                   ...               ...         ...   \n",
       "5892              23.22                  0.18              0.26        7.20   \n",
       "8035               9.36                  0.20              0.02        2.36   \n",
       "2145              16.20                  0.14              0.02        7.58   \n",
       "4735              17.36                  0.34              0.08        2.56   \n",
       "3716              23.54                  0.18              0.00        5.56   \n",
       "\n",
       "      polarity  subjectivity  ellipsis_per_comment  \n",
       "7915  0.043637      0.594063                  0.42  \n",
       "3839  0.150611      0.494092                  1.04  \n",
       "8168  0.162235      0.565029                  1.00  \n",
       "3442  0.085250      0.472184                  0.68  \n",
       "2870  0.167263      0.531493                  0.18  \n",
       "...        ...           ...                   ...  \n",
       "5892  0.056211      0.608271                  0.46  \n",
       "8035  0.073557      0.538962                  0.14  \n",
       "2145  0.160300      0.548074                  0.20  \n",
       "4735  0.161578      0.507725                  0.34  \n",
       "3716  0.092970      0.600723                  0.56  \n",
       "\n",
       "[2169 rows x 7 columns]"
      ]
     },
     "execution_count": 38,
     "metadata": {},
     "output_type": "execute_result"
    }
   ],
   "source": [
    "X_test"
   ]
  },
  {
   "cell_type": "code",
   "execution_count": 39,
   "metadata": {},
   "outputs": [
    {
     "data": {
      "text/plain": [
       "array([[0.55950458, 0.09090909, 0.035     , 0.19574468, 0.62119509,\n",
       "        0.59406288, 0.12650602],\n",
       "       [0.76090468, 0.07438017, 0.03      , 0.34468085, 0.69996337,\n",
       "        0.4940923 , 0.31325301],\n",
       "       [0.83791061, 0.07438017, 0.09      , 0.29787234, 0.70852237,\n",
       "        0.56502897, 0.30120482],\n",
       "       [0.81044696, 0.05785124, 0.005     , 0.29574468, 0.65183606,\n",
       "        0.47218373, 0.20481928],\n",
       "       [0.28917609, 0.04958678, 0.005     , 0.1106383 , 0.71222486,\n",
       "        0.53149301, 0.05421687]])"
      ]
     },
     "execution_count": 39,
     "metadata": {},
     "output_type": "execute_result"
    }
   ],
   "source": [
    "X_test_scaled[:5]"
   ]
  },
  {
   "cell_type": "code",
   "execution_count": 40,
   "metadata": {},
   "outputs": [
    {
     "name": "stdout",
     "output_type": "stream",
     "text": [
      "WARNING:tensorflow:From <ipython-input-40-1ea00abbf4bb>:1: Sequential.predict_classes (from tensorflow.python.keras.engine.sequential) is deprecated and will be removed after 2021-01-01.\n",
      "Instructions for updating:\n",
      "Please use instead:* `np.argmax(model.predict(x), axis=-1)`,   if your model does multi-class classification   (e.g. if it uses a `softmax` last-layer activation).* `(model.predict(x) > 0.5).astype(\"int32\")`,   if your model does binary classification   (e.g. if it uses a `sigmoid` last-layer activation).\n"
     ]
    }
   ],
   "source": [
    "encoded_predictions = modelIE.predict_classes(X_test_scaled[:5])\n"
   ]
  },
  {
   "cell_type": "code",
   "execution_count": 41,
   "metadata": {},
   "outputs": [],
   "source": [
    "prediction_labels = label_encoder.inverse_transform(encoded_predictions)"
   ]
  },
  {
   "cell_type": "code",
   "execution_count": 42,
   "metadata": {},
   "outputs": [
    {
     "name": "stdout",
     "output_type": "stream",
     "text": [
      "Predicted classes: [0 0 0 0 0]\n",
      "Actual Labels: [0, 1, 0, 0, 0]\n"
     ]
    }
   ],
   "source": [
    "print(f\"Predicted classes: {prediction_labels}\")\n",
    "print(f\"Actual Labels: {list(y_test[:5])}\")"
   ]
  },
  {
   "cell_type": "code",
   "execution_count": 65,
   "metadata": {},
   "outputs": [],
   "source": [
    "docs_new = ['i like basketball','There are a few ways of doing this, depending on what you’re trying to achieve. ','happy','good', 'very good','Wo ai zu guo tian an men ????', 'tian an men shang tai yang sheng','WARNING:tensorflow:From <ipython-input-39-1ea00abbf4bb>:1: Sequential.predict_classes (from tensorflow.python.keras.engine.sequential) is deprecated and will be removed after 2021-01-01.']"
   ]
  },
  {
   "cell_type": "code",
   "execution_count": 66,
   "metadata": {},
   "outputs": [
    {
     "data": {
      "text/plain": [
       "['i like basketball There are a few ways of doing this, depending on what you’re trying to achieve. ']"
      ]
     },
     "execution_count": 66,
     "metadata": {},
     "output_type": "execute_result"
    }
   ],
   "source": [
    "x= [docs_new[0]+ ' ' +docs_new[1]]\n",
    "x"
   ]
  },
  {
   "cell_type": "code",
   "execution_count": 67,
   "metadata": {},
   "outputs": [],
   "source": [
    "df_test = pd.DataFrame({'posts':docs_new})"
   ]
  },
  {
   "cell_type": "code",
   "execution_count": 68,
   "metadata": {},
   "outputs": [
    {
     "data": {
      "text/html": [
       "<div>\n",
       "<style scoped>\n",
       "    .dataframe tbody tr th:only-of-type {\n",
       "        vertical-align: middle;\n",
       "    }\n",
       "\n",
       "    .dataframe tbody tr th {\n",
       "        vertical-align: top;\n",
       "    }\n",
       "\n",
       "    .dataframe thead th {\n",
       "        text-align: right;\n",
       "    }\n",
       "</style>\n",
       "<table border=\"1\" class=\"dataframe\">\n",
       "  <thead>\n",
       "    <tr style=\"text-align: right;\">\n",
       "      <th></th>\n",
       "      <th>posts</th>\n",
       "    </tr>\n",
       "  </thead>\n",
       "  <tbody>\n",
       "    <tr>\n",
       "      <th>0</th>\n",
       "      <td>i like basketball</td>\n",
       "    </tr>\n",
       "    <tr>\n",
       "      <th>1</th>\n",
       "      <td>There are a few ways of doing this, depending ...</td>\n",
       "    </tr>\n",
       "    <tr>\n",
       "      <th>2</th>\n",
       "      <td>happy</td>\n",
       "    </tr>\n",
       "    <tr>\n",
       "      <th>3</th>\n",
       "      <td>good</td>\n",
       "    </tr>\n",
       "    <tr>\n",
       "      <th>4</th>\n",
       "      <td>very good</td>\n",
       "    </tr>\n",
       "    <tr>\n",
       "      <th>5</th>\n",
       "      <td>Wo ai zu guo tian an men ????</td>\n",
       "    </tr>\n",
       "    <tr>\n",
       "      <th>6</th>\n",
       "      <td>tian an men shang tai yang sheng</td>\n",
       "    </tr>\n",
       "    <tr>\n",
       "      <th>7</th>\n",
       "      <td>WARNING:tensorflow:From &lt;ipython-input-39-1ea0...</td>\n",
       "    </tr>\n",
       "  </tbody>\n",
       "</table>\n",
       "</div>"
      ],
      "text/plain": [
       "                                               posts\n",
       "0                                  i like basketball\n",
       "1  There are a few ways of doing this, depending ...\n",
       "2                                              happy\n",
       "3                                               good\n",
       "4                                          very good\n",
       "5                      Wo ai zu guo tian an men ????\n",
       "6                   tian an men shang tai yang sheng\n",
       "7  WARNING:tensorflow:From <ipython-input-39-1ea0..."
      ]
     },
     "execution_count": 68,
     "metadata": {},
     "output_type": "execute_result"
    }
   ],
   "source": [
    "df_test"
   ]
  },
  {
   "cell_type": "code",
   "execution_count": 69,
   "metadata": {},
   "outputs": [],
   "source": [
    "df_test['words_per_comment'] = df_test['posts'].apply(lambda x: len(x.split())/50)\n"
   ]
  },
  {
   "cell_type": "code",
   "execution_count": 70,
   "metadata": {},
   "outputs": [],
   "source": [
    "df_test['question_per_comment'] = df_test['posts'].apply(lambda x: x.count('?')/50)\n"
   ]
  },
  {
   "cell_type": "code",
   "execution_count": 71,
   "metadata": {},
   "outputs": [],
   "source": [
    "df_test['excl_per_comment'] = df_test['posts'].apply(lambda x: x.count('!')/50)\n"
   ]
  },
  {
   "cell_type": "code",
   "execution_count": 72,
   "metadata": {},
   "outputs": [],
   "source": [
    "df_test['upper_case'] = df_test['posts'].str.findall(r'[A-Z]').str.len()/50\n"
   ]
  },
  {
   "cell_type": "code",
   "execution_count": 73,
   "metadata": {},
   "outputs": [
    {
     "data": {
      "text/html": [
       "<div>\n",
       "<style scoped>\n",
       "    .dataframe tbody tr th:only-of-type {\n",
       "        vertical-align: middle;\n",
       "    }\n",
       "\n",
       "    .dataframe tbody tr th {\n",
       "        vertical-align: top;\n",
       "    }\n",
       "\n",
       "    .dataframe thead th {\n",
       "        text-align: right;\n",
       "    }\n",
       "</style>\n",
       "<table border=\"1\" class=\"dataframe\">\n",
       "  <thead>\n",
       "    <tr style=\"text-align: right;\">\n",
       "      <th></th>\n",
       "      <th>posts</th>\n",
       "      <th>words_per_comment</th>\n",
       "      <th>question_per_comment</th>\n",
       "      <th>excl_per_comment</th>\n",
       "      <th>upper_case</th>\n",
       "      <th>polarity</th>\n",
       "      <th>subjectivity</th>\n",
       "      <th>y</th>\n",
       "    </tr>\n",
       "  </thead>\n",
       "  <tbody>\n",
       "    <tr>\n",
       "      <th>0</th>\n",
       "      <td>i like basketball</td>\n",
       "      <td>0.06</td>\n",
       "      <td>0.00</td>\n",
       "      <td>0.0</td>\n",
       "      <td>0.00</td>\n",
       "      <td>0.00</td>\n",
       "      <td>0.00</td>\n",
       "      <td>[]</td>\n",
       "    </tr>\n",
       "    <tr>\n",
       "      <th>1</th>\n",
       "      <td>There are a few ways of doing this, depending ...</td>\n",
       "      <td>0.30</td>\n",
       "      <td>0.00</td>\n",
       "      <td>0.0</td>\n",
       "      <td>0.02</td>\n",
       "      <td>-0.20</td>\n",
       "      <td>0.10</td>\n",
       "      <td>[([few], -0.2, 0.1, None)]</td>\n",
       "    </tr>\n",
       "    <tr>\n",
       "      <th>2</th>\n",
       "      <td>happy</td>\n",
       "      <td>0.02</td>\n",
       "      <td>0.00</td>\n",
       "      <td>0.0</td>\n",
       "      <td>0.00</td>\n",
       "      <td>0.80</td>\n",
       "      <td>1.00</td>\n",
       "      <td>[([happy], 0.8, 1.0, None)]</td>\n",
       "    </tr>\n",
       "    <tr>\n",
       "      <th>3</th>\n",
       "      <td>good</td>\n",
       "      <td>0.02</td>\n",
       "      <td>0.00</td>\n",
       "      <td>0.0</td>\n",
       "      <td>0.00</td>\n",
       "      <td>0.70</td>\n",
       "      <td>0.60</td>\n",
       "      <td>[([good], 0.7, 0.6000000000000001, None)]</td>\n",
       "    </tr>\n",
       "    <tr>\n",
       "      <th>4</th>\n",
       "      <td>very good</td>\n",
       "      <td>0.04</td>\n",
       "      <td>0.00</td>\n",
       "      <td>0.0</td>\n",
       "      <td>0.00</td>\n",
       "      <td>0.91</td>\n",
       "      <td>0.78</td>\n",
       "      <td>[([very, good], 0.9099999999999999, 0.78000000...</td>\n",
       "    </tr>\n",
       "    <tr>\n",
       "      <th>5</th>\n",
       "      <td>Wo ai zu guo tian an men ????</td>\n",
       "      <td>0.16</td>\n",
       "      <td>0.08</td>\n",
       "      <td>0.0</td>\n",
       "      <td>0.02</td>\n",
       "      <td>0.00</td>\n",
       "      <td>0.00</td>\n",
       "      <td>[]</td>\n",
       "    </tr>\n",
       "    <tr>\n",
       "      <th>6</th>\n",
       "      <td>tian an men shang tai yang sheng</td>\n",
       "      <td>0.14</td>\n",
       "      <td>0.00</td>\n",
       "      <td>0.0</td>\n",
       "      <td>0.00</td>\n",
       "      <td>0.00</td>\n",
       "      <td>0.00</td>\n",
       "      <td>[]</td>\n",
       "    </tr>\n",
       "    <tr>\n",
       "      <th>7</th>\n",
       "      <td>WARNING:tensorflow:From &lt;ipython-input-39-1ea0...</td>\n",
       "      <td>0.26</td>\n",
       "      <td>0.00</td>\n",
       "      <td>0.0</td>\n",
       "      <td>0.18</td>\n",
       "      <td>0.00</td>\n",
       "      <td>0.00</td>\n",
       "      <td>[]</td>\n",
       "    </tr>\n",
       "  </tbody>\n",
       "</table>\n",
       "</div>"
      ],
      "text/plain": [
       "                                               posts  words_per_comment  \\\n",
       "0                                  i like basketball               0.06   \n",
       "1  There are a few ways of doing this, depending ...               0.30   \n",
       "2                                              happy               0.02   \n",
       "3                                               good               0.02   \n",
       "4                                          very good               0.04   \n",
       "5                      Wo ai zu guo tian an men ????               0.16   \n",
       "6                   tian an men shang tai yang sheng               0.14   \n",
       "7  WARNING:tensorflow:From <ipython-input-39-1ea0...               0.26   \n",
       "\n",
       "   question_per_comment  excl_per_comment  upper_case  polarity  subjectivity  \\\n",
       "0                  0.00               0.0        0.00      0.00          0.00   \n",
       "1                  0.00               0.0        0.02     -0.20          0.10   \n",
       "2                  0.00               0.0        0.00      0.80          1.00   \n",
       "3                  0.00               0.0        0.00      0.70          0.60   \n",
       "4                  0.00               0.0        0.00      0.91          0.78   \n",
       "5                  0.08               0.0        0.02      0.00          0.00   \n",
       "6                  0.00               0.0        0.00      0.00          0.00   \n",
       "7                  0.00               0.0        0.18      0.00          0.00   \n",
       "\n",
       "                                                   y  \n",
       "0                                                 []  \n",
       "1                         [([few], -0.2, 0.1, None)]  \n",
       "2                        [([happy], 0.8, 1.0, None)]  \n",
       "3          [([good], 0.7, 0.6000000000000001, None)]  \n",
       "4  [([very, good], 0.9099999999999999, 0.78000000...  \n",
       "5                                                 []  \n",
       "6                                                 []  \n",
       "7                                                 []  "
      ]
     },
     "execution_count": 73,
     "metadata": {},
     "output_type": "execute_result"
    }
   ],
   "source": [
    "df_test[['polarity', 'subjectivity','y']] = df_test['posts'].apply(lambda Text: pd.Series(TextBlob(Text).sentiment_assessments))\n",
    "df_test"
   ]
  },
  {
   "cell_type": "code",
   "execution_count": 74,
   "metadata": {},
   "outputs": [],
   "source": [
    "# subjectivity = polarity_subjectivity[1]\n",
    "# subjectivity"
   ]
  },
  {
   "cell_type": "code",
   "execution_count": 75,
   "metadata": {},
   "outputs": [],
   "source": [
    "df_test['ellipsis_per_comment'] = df_test['posts'].apply(lambda x: x.count('...')/50)\n",
    "# ellipsis_per_comment"
   ]
  },
  {
   "cell_type": "code",
   "execution_count": 76,
   "metadata": {},
   "outputs": [
    {
     "data": {
      "text/html": [
       "<div>\n",
       "<style scoped>\n",
       "    .dataframe tbody tr th:only-of-type {\n",
       "        vertical-align: middle;\n",
       "    }\n",
       "\n",
       "    .dataframe tbody tr th {\n",
       "        vertical-align: top;\n",
       "    }\n",
       "\n",
       "    .dataframe thead th {\n",
       "        text-align: right;\n",
       "    }\n",
       "</style>\n",
       "<table border=\"1\" class=\"dataframe\">\n",
       "  <thead>\n",
       "    <tr style=\"text-align: right;\">\n",
       "      <th></th>\n",
       "      <th>posts</th>\n",
       "      <th>words_per_comment</th>\n",
       "      <th>question_per_comment</th>\n",
       "      <th>excl_per_comment</th>\n",
       "      <th>upper_case</th>\n",
       "      <th>polarity</th>\n",
       "      <th>subjectivity</th>\n",
       "      <th>y</th>\n",
       "      <th>ellipsis_per_comment</th>\n",
       "    </tr>\n",
       "  </thead>\n",
       "  <tbody>\n",
       "    <tr>\n",
       "      <th>0</th>\n",
       "      <td>i like basketball</td>\n",
       "      <td>0.06</td>\n",
       "      <td>0.00</td>\n",
       "      <td>0.0</td>\n",
       "      <td>0.00</td>\n",
       "      <td>0.00</td>\n",
       "      <td>0.00</td>\n",
       "      <td>[]</td>\n",
       "      <td>0.0</td>\n",
       "    </tr>\n",
       "    <tr>\n",
       "      <th>1</th>\n",
       "      <td>There are a few ways of doing this, depending ...</td>\n",
       "      <td>0.30</td>\n",
       "      <td>0.00</td>\n",
       "      <td>0.0</td>\n",
       "      <td>0.02</td>\n",
       "      <td>-0.20</td>\n",
       "      <td>0.10</td>\n",
       "      <td>[([few], -0.2, 0.1, None)]</td>\n",
       "      <td>0.0</td>\n",
       "    </tr>\n",
       "    <tr>\n",
       "      <th>2</th>\n",
       "      <td>happy</td>\n",
       "      <td>0.02</td>\n",
       "      <td>0.00</td>\n",
       "      <td>0.0</td>\n",
       "      <td>0.00</td>\n",
       "      <td>0.80</td>\n",
       "      <td>1.00</td>\n",
       "      <td>[([happy], 0.8, 1.0, None)]</td>\n",
       "      <td>0.0</td>\n",
       "    </tr>\n",
       "    <tr>\n",
       "      <th>3</th>\n",
       "      <td>good</td>\n",
       "      <td>0.02</td>\n",
       "      <td>0.00</td>\n",
       "      <td>0.0</td>\n",
       "      <td>0.00</td>\n",
       "      <td>0.70</td>\n",
       "      <td>0.60</td>\n",
       "      <td>[([good], 0.7, 0.6000000000000001, None)]</td>\n",
       "      <td>0.0</td>\n",
       "    </tr>\n",
       "    <tr>\n",
       "      <th>4</th>\n",
       "      <td>very good</td>\n",
       "      <td>0.04</td>\n",
       "      <td>0.00</td>\n",
       "      <td>0.0</td>\n",
       "      <td>0.00</td>\n",
       "      <td>0.91</td>\n",
       "      <td>0.78</td>\n",
       "      <td>[([very, good], 0.9099999999999999, 0.78000000...</td>\n",
       "      <td>0.0</td>\n",
       "    </tr>\n",
       "    <tr>\n",
       "      <th>5</th>\n",
       "      <td>Wo ai zu guo tian an men ????</td>\n",
       "      <td>0.16</td>\n",
       "      <td>0.08</td>\n",
       "      <td>0.0</td>\n",
       "      <td>0.02</td>\n",
       "      <td>0.00</td>\n",
       "      <td>0.00</td>\n",
       "      <td>[]</td>\n",
       "      <td>0.0</td>\n",
       "    </tr>\n",
       "    <tr>\n",
       "      <th>6</th>\n",
       "      <td>tian an men shang tai yang sheng</td>\n",
       "      <td>0.14</td>\n",
       "      <td>0.00</td>\n",
       "      <td>0.0</td>\n",
       "      <td>0.00</td>\n",
       "      <td>0.00</td>\n",
       "      <td>0.00</td>\n",
       "      <td>[]</td>\n",
       "      <td>0.0</td>\n",
       "    </tr>\n",
       "    <tr>\n",
       "      <th>7</th>\n",
       "      <td>WARNING:tensorflow:From &lt;ipython-input-39-1ea0...</td>\n",
       "      <td>0.26</td>\n",
       "      <td>0.00</td>\n",
       "      <td>0.0</td>\n",
       "      <td>0.18</td>\n",
       "      <td>0.00</td>\n",
       "      <td>0.00</td>\n",
       "      <td>[]</td>\n",
       "      <td>0.0</td>\n",
       "    </tr>\n",
       "  </tbody>\n",
       "</table>\n",
       "</div>"
      ],
      "text/plain": [
       "                                               posts  words_per_comment  \\\n",
       "0                                  i like basketball               0.06   \n",
       "1  There are a few ways of doing this, depending ...               0.30   \n",
       "2                                              happy               0.02   \n",
       "3                                               good               0.02   \n",
       "4                                          very good               0.04   \n",
       "5                      Wo ai zu guo tian an men ????               0.16   \n",
       "6                   tian an men shang tai yang sheng               0.14   \n",
       "7  WARNING:tensorflow:From <ipython-input-39-1ea0...               0.26   \n",
       "\n",
       "   question_per_comment  excl_per_comment  upper_case  polarity  subjectivity  \\\n",
       "0                  0.00               0.0        0.00      0.00          0.00   \n",
       "1                  0.00               0.0        0.02     -0.20          0.10   \n",
       "2                  0.00               0.0        0.00      0.80          1.00   \n",
       "3                  0.00               0.0        0.00      0.70          0.60   \n",
       "4                  0.00               0.0        0.00      0.91          0.78   \n",
       "5                  0.08               0.0        0.02      0.00          0.00   \n",
       "6                  0.00               0.0        0.00      0.00          0.00   \n",
       "7                  0.00               0.0        0.18      0.00          0.00   \n",
       "\n",
       "                                                   y  ellipsis_per_comment  \n",
       "0                                                 []                   0.0  \n",
       "1                         [([few], -0.2, 0.1, None)]                   0.0  \n",
       "2                        [([happy], 0.8, 1.0, None)]                   0.0  \n",
       "3          [([good], 0.7, 0.6000000000000001, None)]                   0.0  \n",
       "4  [([very, good], 0.9099999999999999, 0.78000000...                   0.0  \n",
       "5                                                 []                   0.0  \n",
       "6                                                 []                   0.0  \n",
       "7                                                 []                   0.0  "
      ]
     },
     "execution_count": 76,
     "metadata": {},
     "output_type": "execute_result"
    }
   ],
   "source": [
    "df_test"
   ]
  },
  {
   "cell_type": "code",
   "execution_count": 77,
   "metadata": {},
   "outputs": [
    {
     "data": {
      "text/html": [
       "<div>\n",
       "<style scoped>\n",
       "    .dataframe tbody tr th:only-of-type {\n",
       "        vertical-align: middle;\n",
       "    }\n",
       "\n",
       "    .dataframe tbody tr th {\n",
       "        vertical-align: top;\n",
       "    }\n",
       "\n",
       "    .dataframe thead th {\n",
       "        text-align: right;\n",
       "    }\n",
       "</style>\n",
       "<table border=\"1\" class=\"dataframe\">\n",
       "  <thead>\n",
       "    <tr style=\"text-align: right;\">\n",
       "      <th></th>\n",
       "      <th>words_per_comment</th>\n",
       "      <th>question_per_comment</th>\n",
       "      <th>excl_per_comment</th>\n",
       "      <th>upper_case</th>\n",
       "      <th>polarity</th>\n",
       "      <th>subjectivity</th>\n",
       "      <th>ellipsis_per_comment</th>\n",
       "    </tr>\n",
       "  </thead>\n",
       "  <tbody>\n",
       "    <tr>\n",
       "      <th>0</th>\n",
       "      <td>0.06</td>\n",
       "      <td>0.00</td>\n",
       "      <td>0.0</td>\n",
       "      <td>0.00</td>\n",
       "      <td>0.00</td>\n",
       "      <td>0.00</td>\n",
       "      <td>0.0</td>\n",
       "    </tr>\n",
       "    <tr>\n",
       "      <th>1</th>\n",
       "      <td>0.30</td>\n",
       "      <td>0.00</td>\n",
       "      <td>0.0</td>\n",
       "      <td>0.02</td>\n",
       "      <td>-0.20</td>\n",
       "      <td>0.10</td>\n",
       "      <td>0.0</td>\n",
       "    </tr>\n",
       "    <tr>\n",
       "      <th>2</th>\n",
       "      <td>0.02</td>\n",
       "      <td>0.00</td>\n",
       "      <td>0.0</td>\n",
       "      <td>0.00</td>\n",
       "      <td>0.80</td>\n",
       "      <td>1.00</td>\n",
       "      <td>0.0</td>\n",
       "    </tr>\n",
       "    <tr>\n",
       "      <th>3</th>\n",
       "      <td>0.02</td>\n",
       "      <td>0.00</td>\n",
       "      <td>0.0</td>\n",
       "      <td>0.00</td>\n",
       "      <td>0.70</td>\n",
       "      <td>0.60</td>\n",
       "      <td>0.0</td>\n",
       "    </tr>\n",
       "    <tr>\n",
       "      <th>4</th>\n",
       "      <td>0.04</td>\n",
       "      <td>0.00</td>\n",
       "      <td>0.0</td>\n",
       "      <td>0.00</td>\n",
       "      <td>0.91</td>\n",
       "      <td>0.78</td>\n",
       "      <td>0.0</td>\n",
       "    </tr>\n",
       "    <tr>\n",
       "      <th>5</th>\n",
       "      <td>0.16</td>\n",
       "      <td>0.08</td>\n",
       "      <td>0.0</td>\n",
       "      <td>0.02</td>\n",
       "      <td>0.00</td>\n",
       "      <td>0.00</td>\n",
       "      <td>0.0</td>\n",
       "    </tr>\n",
       "    <tr>\n",
       "      <th>6</th>\n",
       "      <td>0.14</td>\n",
       "      <td>0.00</td>\n",
       "      <td>0.0</td>\n",
       "      <td>0.00</td>\n",
       "      <td>0.00</td>\n",
       "      <td>0.00</td>\n",
       "      <td>0.0</td>\n",
       "    </tr>\n",
       "    <tr>\n",
       "      <th>7</th>\n",
       "      <td>0.26</td>\n",
       "      <td>0.00</td>\n",
       "      <td>0.0</td>\n",
       "      <td>0.18</td>\n",
       "      <td>0.00</td>\n",
       "      <td>0.00</td>\n",
       "      <td>0.0</td>\n",
       "    </tr>\n",
       "  </tbody>\n",
       "</table>\n",
       "</div>"
      ],
      "text/plain": [
       "   words_per_comment  question_per_comment  excl_per_comment  upper_case  \\\n",
       "0               0.06                  0.00               0.0        0.00   \n",
       "1               0.30                  0.00               0.0        0.02   \n",
       "2               0.02                  0.00               0.0        0.00   \n",
       "3               0.02                  0.00               0.0        0.00   \n",
       "4               0.04                  0.00               0.0        0.00   \n",
       "5               0.16                  0.08               0.0        0.02   \n",
       "6               0.14                  0.00               0.0        0.00   \n",
       "7               0.26                  0.00               0.0        0.18   \n",
       "\n",
       "   polarity  subjectivity  ellipsis_per_comment  \n",
       "0      0.00          0.00                   0.0  \n",
       "1     -0.20          0.10                   0.0  \n",
       "2      0.80          1.00                   0.0  \n",
       "3      0.70          0.60                   0.0  \n",
       "4      0.91          0.78                   0.0  \n",
       "5      0.00          0.00                   0.0  \n",
       "6      0.00          0.00                   0.0  \n",
       "7      0.00          0.00                   0.0  "
      ]
     },
     "execution_count": 77,
     "metadata": {},
     "output_type": "execute_result"
    }
   ],
   "source": [
    "Xx = df_test.drop(['posts','y'], axis=1)\n",
    "Xx"
   ]
  },
  {
   "cell_type": "code",
   "execution_count": 78,
   "metadata": {},
   "outputs": [],
   "source": [
    "# X_scaler = MinMaxScaler().fit(X_train)\n",
    "# X_train_scaled = X_scaler.transform(X_train)\n",
    "# X_test_scaled = X_scaler.transform(X_test)"
   ]
  },
  {
   "cell_type": "code",
   "execution_count": 79,
   "metadata": {},
   "outputs": [
    {
     "data": {
      "text/plain": [
       "dtype('float64')"
      ]
     },
     "execution_count": 79,
     "metadata": {},
     "output_type": "execute_result"
    }
   ],
   "source": [
    "#do I need to scale Xx???????\n",
    "X_scaled = X_scaler.transform(Xx)\n",
    "X_scaled.dtype\n"
   ]
  },
  {
   "cell_type": "code",
   "execution_count": 80,
   "metadata": {},
   "outputs": [
    {
     "data": {
      "text/plain": [
       "array([[-5.38502962e-04,  0.00000000e+00,  0.00000000e+00,\n",
       "         0.00000000e+00,  5.89063829e-01,  0.00000000e+00,\n",
       "         0.00000000e+00],\n",
       "       [ 5.92353258e-03,  0.00000000e+00,  0.00000000e+00,\n",
       "         1.06382979e-03,  4.41797872e-01,  1.00000000e-01,\n",
       "         0.00000000e+00],\n",
       "       [-1.61550889e-03,  0.00000000e+00,  0.00000000e+00,\n",
       "         0.00000000e+00,  1.17812766e+00,  1.00000000e+00,\n",
       "         0.00000000e+00],\n",
       "       [-1.61550889e-03,  0.00000000e+00,  0.00000000e+00,\n",
       "         0.00000000e+00,  1.10449468e+00,  6.00000000e-01,\n",
       "         0.00000000e+00],\n",
       "       [-1.07700592e-03,  0.00000000e+00,  0.00000000e+00,\n",
       "         0.00000000e+00,  1.25912393e+00,  7.80000000e-01,\n",
       "         0.00000000e+00],\n",
       "       [ 2.15401185e-03,  3.30578512e-02,  0.00000000e+00,\n",
       "         1.06382979e-03,  5.89063829e-01,  0.00000000e+00,\n",
       "         0.00000000e+00],\n",
       "       [ 1.61550889e-03,  0.00000000e+00,  0.00000000e+00,\n",
       "         0.00000000e+00,  5.89063829e-01,  0.00000000e+00,\n",
       "         0.00000000e+00],\n",
       "       [ 4.84652666e-03,  0.00000000e+00,  0.00000000e+00,\n",
       "         9.57446809e-03,  5.89063829e-01,  0.00000000e+00,\n",
       "         0.00000000e+00]])"
      ]
     },
     "execution_count": 80,
     "metadata": {},
     "output_type": "execute_result"
    }
   ],
   "source": [
    "X_scaled"
   ]
  },
  {
   "cell_type": "code",
   "execution_count": 81,
   "metadata": {},
   "outputs": [
    {
     "data": {
      "text/plain": [
       "array([0, 0, 0, 0, 0, 0, 0, 0])"
      ]
     },
     "execution_count": 81,
     "metadata": {},
     "output_type": "execute_result"
    }
   ],
   "source": [
    "predictions = modelIE.predict_classes(X_scaled)\n",
    "predictions"
   ]
  },
  {
   "cell_type": "code",
   "execution_count": 60,
   "metadata": {},
   "outputs": [
    {
     "data": {
      "text/plain": [
       "array([0, 0, 0, 0, 0, 0, 0])"
      ]
     },
     "execution_count": 60,
     "metadata": {},
     "output_type": "execute_result"
    }
   ],
   "source": [
    "prediction_labelsrrr = label_encoder.inverse_transform(predictions)\n",
    "prediction_labelsrrr"
   ]
  },
  {
   "cell_type": "code",
   "execution_count": 61,
   "metadata": {},
   "outputs": [],
   "source": [
    "# df[\"I-E\"] = df[\"I-E\"].astype(\"category\")"
   ]
  },
  {
   "cell_type": "code",
   "execution_count": 62,
   "metadata": {},
   "outputs": [],
   "source": [
    "# df_predict[\"predicted\"] = df_predict[\"predicted\"].astype(\"category\")\n"
   ]
  },
  {
   "cell_type": "code",
   "execution_count": 63,
   "metadata": {},
   "outputs": [],
   "source": [
    "# df_predict[\"predicted\"].cat.categories = [\"Candidate\", \"Confirmed\", \"False Positive\"]\n"
   ]
  },
  {
   "cell_type": "code",
   "execution_count": null,
   "metadata": {},
   "outputs": [],
   "source": [
    "predictions2 = modelIE.predict_classes(Xx)\n",
    "predictions2"
   ]
  },
  {
   "cell_type": "code",
   "execution_count": null,
   "metadata": {},
   "outputs": [],
   "source": [
    "import numpy as np\n",
    "new_data = np.array([[0.2, 0.3, 0.4]])\n",
    "new_data.dtype"
   ]
  },
  {
   "cell_type": "code",
   "execution_count": null,
   "metadata": {},
   "outputs": [],
   "source": [
    "ri = np.array(Xx)\n",
    "ri"
   ]
  },
  {
   "cell_type": "code",
   "execution_count": null,
   "metadata": {},
   "outputs": [],
   "source": [
    "predictions3 = modelIE.predict_classes(ri)\n",
    "predictions3"
   ]
  },
  {
   "cell_type": "code",
   "execution_count": null,
   "metadata": {},
   "outputs": [],
   "source": [
    "cao = np.array(docs_new)\n",
    "cao"
   ]
  },
  {
   "cell_type": "code",
   "execution_count": null,
   "metadata": {},
   "outputs": [],
   "source": [
    "predictions4 = modelIE.predict_classes(cao)"
   ]
  },
  {
   "cell_type": "code",
   "execution_count": null,
   "metadata": {},
   "outputs": [],
   "source": []
  },
  {
   "cell_type": "code",
   "execution_count": null,
   "metadata": {},
   "outputs": [],
   "source": []
  },
  {
   "cell_type": "code",
   "execution_count": null,
   "metadata": {},
   "outputs": [],
   "source": []
  },
  {
   "cell_type": "code",
   "execution_count": null,
   "metadata": {},
   "outputs": [],
   "source": [
    "#Intuitive vs. Sensing\n",
    "y = df['N-S'].values\n",
    "X_train,X_test,y_train,y_test = train_test_split(X,y,random_state=45)"
   ]
  },
  {
   "cell_type": "code",
   "execution_count": null,
   "metadata": {},
   "outputs": [],
   "source": [
    "X_scaler = MinMaxScaler().fit(X_train)\n",
    "X_train_scaled = X_scaler.transform(X_train)\n",
    "X_test_scaled = X_scaler.transform(X_test)"
   ]
  },
  {
   "cell_type": "code",
   "execution_count": null,
   "metadata": {},
   "outputs": [],
   "source": [
    "label_encoder = LabelEncoder()\n",
    "label_encoder.fit(y_train)\n",
    "encoded_y_train = label_encoder.transform(y_train)\n",
    "encoded_y_test = label_encoder.transform(y_test)\n",
    "# Step 2: Convert encoded labels to one-hot-encoding\n",
    "y_train_categorical = to_categorical(encoded_y_train)\n",
    "y_test_categorical = to_categorical(encoded_y_test)"
   ]
  },
  {
   "cell_type": "code",
   "execution_count": null,
   "metadata": {},
   "outputs": [],
   "source": [
    "model2 = Sequential()\n",
    "model2.add(Dense(units=200, activation='relu', input_dim=7))\n",
    "model2.add(Dense(units=200, activation='relu'))\n",
    "model2.add(Dense(units=2, activation='softmax'))"
   ]
  },
  {
   "cell_type": "code",
   "execution_count": null,
   "metadata": {},
   "outputs": [],
   "source": [
    "model2.compile(optimizer='adam',\n",
    "              loss='categorical_crossentropy',\n",
    "              metrics=['accuracy'])"
   ]
  },
  {
   "cell_type": "code",
   "execution_count": null,
   "metadata": {},
   "outputs": [],
   "source": [
    "model2.summary() "
   ]
  },
  {
   "cell_type": "code",
   "execution_count": null,
   "metadata": {},
   "outputs": [],
   "source": [
    "model2.fit(\n",
    "    X_train_scaled,\n",
    "    y_train_categorical,\n",
    "    epochs=60,\n",
    "    shuffle=True,\n",
    "    verbose=2\n",
    ")"
   ]
  },
  {
   "cell_type": "code",
   "execution_count": null,
   "metadata": {},
   "outputs": [],
   "source": [
    "model_loss, model_accuracy = model2.evaluate(\n",
    "    X_test_scaled, y_test_categorical, verbose=2)\n",
    "print(\n",
    "    f\"Normal Neural Network - Loss: {model_loss}, Accuracy: {model_accuracy}\")"
   ]
  },
  {
   "cell_type": "code",
   "execution_count": null,
   "metadata": {},
   "outputs": [],
   "source": [
    "model2.save(\"model_testNS.h5\") \n",
    "from tensorflow.keras.models import load_model\n",
    "modelNS = load_model(\"model_testNS.h5\")"
   ]
  },
  {
   "cell_type": "code",
   "execution_count": null,
   "metadata": {},
   "outputs": [],
   "source": [
    "a=1\n",
    "b=2\n",
    "c=list([a,b])"
   ]
  },
  {
   "cell_type": "code",
   "execution_count": null,
   "metadata": {},
   "outputs": [],
   "source": [
    "c"
   ]
  },
  {
   "cell_type": "code",
   "execution_count": null,
   "metadata": {},
   "outputs": [],
   "source": [
    "# Thinking vs. Feeling\n",
    "y = df['T-F'].values\n",
    "X_train,X_test,y_train,y_test = train_test_split(X,y,random_state=45)\n"
   ]
  },
  {
   "cell_type": "code",
   "execution_count": null,
   "metadata": {},
   "outputs": [],
   "source": [
    "X_scaler = MinMaxScaler().fit(X_train)\n",
    "X_train_scaled = X_scaler.transform(X_train)\n",
    "X_test_scaled = X_scaler.transform(X_test)"
   ]
  },
  {
   "cell_type": "code",
   "execution_count": null,
   "metadata": {},
   "outputs": [],
   "source": [
    "label_encoder = LabelEncoder()\n",
    "label_encoder.fit(y_train)\n",
    "encoded_y_train = label_encoder.transform(y_train)\n",
    "encoded_y_test = label_encoder.transform(y_test)\n",
    "# Step 2: Convert encoded labels to one-hot-encoding\n",
    "y_train_categorical = to_categorical(encoded_y_train)\n",
    "y_test_categorical = to_categorical(encoded_y_test)"
   ]
  },
  {
   "cell_type": "code",
   "execution_count": null,
   "metadata": {},
   "outputs": [],
   "source": [
    "model3 = Sequential()\n",
    "model3.add(Dense(units=200, activation='sigmoid', input_dim=7))\n",
    "model3.add(Dense(units=200, activation='sigmoid'))\n",
    "model3.add(Dense(units=2, activation='softmax'))"
   ]
  },
  {
   "cell_type": "code",
   "execution_count": null,
   "metadata": {},
   "outputs": [],
   "source": [
    "model3.compile(optimizer='adam',\n",
    "              loss='categorical_crossentropy',\n",
    "              metrics=['accuracy'])"
   ]
  },
  {
   "cell_type": "code",
   "execution_count": null,
   "metadata": {},
   "outputs": [],
   "source": [
    "model3.summary() "
   ]
  },
  {
   "cell_type": "code",
   "execution_count": null,
   "metadata": {},
   "outputs": [],
   "source": [
    "model3.fit(\n",
    "    X_train_scaled,\n",
    "    y_train_categorical,\n",
    "    epochs=60,\n",
    "    shuffle=True,\n",
    "    verbose=2\n",
    ")"
   ]
  },
  {
   "cell_type": "code",
   "execution_count": null,
   "metadata": {},
   "outputs": [],
   "source": [
    "model_loss, model_accuracy = model3.evaluate(\n",
    "    X_test_scaled, y_test_categorical, verbose=2)\n",
    "print(\n",
    "    f\"Normal Neural Network - Loss: {model_loss}, Accuracy: {model_accuracy}\")"
   ]
  },
  {
   "cell_type": "code",
   "execution_count": null,
   "metadata": {},
   "outputs": [],
   "source": [
    "# Judging vs. Perceiving\n",
    "y = df['J-P'].values\n",
    "X_train,X_test,y_train,y_test = train_test_split(X,y,random_state=45)\n"
   ]
  },
  {
   "cell_type": "code",
   "execution_count": null,
   "metadata": {},
   "outputs": [],
   "source": [
    "X_scaler = MinMaxScaler().fit(X_train)\n",
    "X_train_scaled = X_scaler.transform(X_train)\n",
    "X_test_scaled = X_scaler.transform(X_test)"
   ]
  },
  {
   "cell_type": "code",
   "execution_count": null,
   "metadata": {},
   "outputs": [],
   "source": [
    "label_encoder = LabelEncoder()\n",
    "label_encoder.fit(y_train)\n",
    "encoded_y_train = label_encoder.transform(y_train)\n",
    "encoded_y_test = label_encoder.transform(y_test)\n",
    "# Step 2: Convert encoded labels to one-hot-encoding\n",
    "y_train_categorical = to_categorical(encoded_y_train)\n",
    "y_test_categorical = to_categorical(encoded_y_test)"
   ]
  },
  {
   "cell_type": "code",
   "execution_count": null,
   "metadata": {},
   "outputs": [],
   "source": [
    "model4 = Sequential()\n",
    "model4.add(Dense(units=200, activation='sigmoid', input_dim=7))\n",
    "model4.add(Dense(units=200, activation='sigmoid'))\n",
    "model4.add(Dense(units=2, activation='softmax'))"
   ]
  },
  {
   "cell_type": "code",
   "execution_count": null,
   "metadata": {},
   "outputs": [],
   "source": [
    "model4.compile(optimizer='adam',\n",
    "              loss='categorical_crossentropy',\n",
    "              metrics=['accuracy'])"
   ]
  },
  {
   "cell_type": "code",
   "execution_count": null,
   "metadata": {},
   "outputs": [],
   "source": [
    "model4.summary() "
   ]
  },
  {
   "cell_type": "code",
   "execution_count": null,
   "metadata": {},
   "outputs": [],
   "source": [
    "model4.fit(\n",
    "    X_train_scaled,\n",
    "    y_train_categorical,\n",
    "    epochs=60,\n",
    "    shuffle=True,\n",
    "    verbose=2\n",
    ")"
   ]
  },
  {
   "cell_type": "code",
   "execution_count": null,
   "metadata": {},
   "outputs": [],
   "source": [
    "model_loss, model_accuracy = model4.evaluate(\n",
    "    X_test_scaled, y_test_categorical, verbose=2)\n",
    "print(\n",
    "    f\"Normal Neural Network - Loss: {model_loss}, Accuracy: {model_accuracy}\")\n",
    "#relu: 0.598"
   ]
  },
  {
   "cell_type": "code",
   "execution_count": null,
   "metadata": {},
   "outputs": [],
   "source": [
    "# Overall\n",
    "y = df['type'].values\n",
    "X_train,X_test,y_train,y_test = train_test_split(X,y,random_state=45)"
   ]
  },
  {
   "cell_type": "code",
   "execution_count": null,
   "metadata": {},
   "outputs": [],
   "source": [
    "X_scaler = MinMaxScaler().fit(X_train)\n",
    "X_train_scaled = X_scaler.transform(X_train)\n",
    "X_test_scaled = X_scaler.transform(X_test)"
   ]
  },
  {
   "cell_type": "code",
   "execution_count": null,
   "metadata": {},
   "outputs": [],
   "source": [
    "label_encoder = LabelEncoder()\n",
    "label_encoder.fit(y_train)\n",
    "encoded_y_train = label_encoder.transform(y_train)\n",
    "encoded_y_test = label_encoder.transform(y_test)\n",
    "# Step 2: Convert encoded labels to one-hot-encoding\n",
    "y_train_categorical = to_categorical(encoded_y_train)\n",
    "y_test_categorical = to_categorical(encoded_y_test)"
   ]
  },
  {
   "cell_type": "code",
   "execution_count": null,
   "metadata": {},
   "outputs": [],
   "source": [
    "model5 = Sequential()\n",
    "model5.add(Dense(units=200, activation='sigmoid', input_dim=7))\n",
    "model5.add(Dense(units=200, activation='sigmoid'))\n",
    "model5.add(Dense(units=16, activation='softmax'))"
   ]
  },
  {
   "cell_type": "code",
   "execution_count": null,
   "metadata": {},
   "outputs": [],
   "source": [
    "model5.compile(optimizer='adam',\n",
    "              loss='categorical_crossentropy',\n",
    "              metrics=['accuracy'])"
   ]
  },
  {
   "cell_type": "code",
   "execution_count": null,
   "metadata": {},
   "outputs": [],
   "source": [
    "model5.summary() "
   ]
  },
  {
   "cell_type": "code",
   "execution_count": null,
   "metadata": {},
   "outputs": [],
   "source": [
    "model5.fit(\n",
    "    X_train_scaled,\n",
    "    y_train_categorical,\n",
    "    epochs=60,\n",
    "    shuffle=True,\n",
    "    verbose=2\n",
    ")"
   ]
  },
  {
   "cell_type": "code",
   "execution_count": null,
   "metadata": {},
   "outputs": [],
   "source": [
    "model_loss, model_accuracy = model5.evaluate(\n",
    "    X_test_scaled, y_test_categorical, verbose=2)\n",
    "print(\n",
    "    f\"Normal Neural Network - Loss: {model_loss}, Accuracy: {model_accuracy}\")"
   ]
  },
  {
   "cell_type": "code",
   "execution_count": null,
   "metadata": {},
   "outputs": [],
   "source": [
    "# save your model by updating \"your_name\" with your name\n",
    "# and \"your_model\" with your model variable\n",
    "# be sure to turn this in to BCS\n",
    "# if joblib fails to import, try running the command to install in terminal/git-bash\n",
    "# save the model to disk\n",
    "# filename = 'finalized_model.sav'\n",
    "# pickle.dump(model, open(filename, 'wb'))\n",
    " \n",
    "# # some time later...\n",
    " \n",
    "# # load the model from disk\n",
    "# loaded_model = pickle.load(open(filename, 'rb'))\n",
    "\n",
    "#import joblib\n",
    "# # save the model to disk\n",
    "# filename = 'finalized_model.sav'\n",
    "# joblib.dump(model, filename)\n",
    " \n",
    "# # some time later...\n",
    " \n",
    "# # load the model from disk\n",
    "# loaded_model = joblib.load(filename)\n",
    "model.save(\"model_test.h5\") "
   ]
  },
  {
   "cell_type": "code",
   "execution_count": null,
   "metadata": {},
   "outputs": [],
   "source": [
    "# Load the model\n",
    "from tensorflow.keras.models import load_model\n",
    "modelIE = load_model(\"model_test.h5\")"
   ]
  },
  {
   "cell_type": "code",
   "execution_count": null,
   "metadata": {},
   "outputs": [],
   "source": [
    "# import pickle\n",
    "# # Saving model to disk\n",
    "# pickle.dump(model, open('modelIE.pkl','wb'))\n",
    "# model = pickle.load(open('model.pkl','rb'))"
   ]
  },
  {
   "cell_type": "code",
   "execution_count": null,
   "metadata": {},
   "outputs": [],
   "source": [
    "encoded_predictions = modelIE.predict_classes(['i am good'])\n",
    "# prediction_labels = label_encoder.inverse_transform(encoded_predictions)"
   ]
  },
  {
   "cell_type": "code",
   "execution_count": null,
   "metadata": {},
   "outputs": [],
   "source": []
  },
  {
   "cell_type": "code",
   "execution_count": null,
   "metadata": {},
   "outputs": [],
   "source": []
  }
 ],
 "metadata": {
  "kernelspec": {
   "display_name": "Python 3.6.10 64-bit",
   "language": "python",
   "name": "python361064bitd3563137116e437588e12e79a042d81a"
  },
  "language_info": {
   "codemirror_mode": {
    "name": "ipython",
    "version": 3
   },
   "file_extension": ".py",
   "mimetype": "text/x-python",
   "name": "python",
   "nbconvert_exporter": "python",
   "pygments_lexer": "ipython3",
   "version": "3.6.10"
  }
 },
 "nbformat": 4,
 "nbformat_minor": 2
}
